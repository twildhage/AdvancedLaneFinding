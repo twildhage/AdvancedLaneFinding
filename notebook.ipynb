{
 "cells": [
  {
   "cell_type": "code",
   "execution_count": null,
   "metadata": {
    "collapsed": false
   },
   "outputs": [],
   "source": [
    "import pickle\n",
    "import cv2\n",
    "from glob import glob \n",
    "import numpy as np\n",
    "import matplotlib.pyplot as plt\n",
    "import matplotlib.image as mpimg\n",
    "import pipeline as pl"
   ]
  },
  {
   "cell_type": "code",
   "execution_count": null,
   "metadata": {
    "collapsed": true
   },
   "outputs": [],
   "source": [
    "path = {'calibration': './camera_cal/',\n",
    "        'example': './examples/',\n",
    "        'test': './test_images/'}\n",
    "files  = {key:[] for key in path}\n",
    "images = {key:[] for key in path}"
   ]
  },
  {
   "cell_type": "code",
   "execution_count": null,
   "metadata": {
    "collapsed": false
   },
   "outputs": [],
   "source": [
    "files['calibration'] = glob(path['calibration'] + 'calibration*.jpg')\n",
    "files['example']     = glob(path['example'] + '*.jpg')\n",
    "files['test']        = glob(path['test'] + '*.jpg')\n",
    "\n",
    "for key in files:\n",
    "    print(\"Load {} images...\".format(key))\n",
    "    for file in files[key]:\n",
    "        images[key].append(mpimg.imread(file))\n",
    "        #print('{}'.format(file))\n",
    "    #print('\\n')"
   ]
  },
  {
   "cell_type": "code",
   "execution_count": null,
   "metadata": {
    "collapsed": false
   },
   "outputs": [],
   "source": [
    "fig, axes = plt.subplots(3,1, figsize=(18,18))\n",
    "for ax, key in zip(axes.flatten(), images):\n",
    "    ax.imshow(images[key][0])\n",
    "plt.show()"
   ]
  },
  {
   "cell_type": "code",
   "execution_count": null,
   "metadata": {
    "collapsed": false
   },
   "outputs": [],
   "source": [
    "for key in images:\n",
    "    for img in images[key][0:3]:\n",
    "        plt.imshow(img)\n",
    "        plt.show()"
   ]
  },
  {
   "cell_type": "markdown",
   "metadata": {},
   "source": [
    "## Calibrate Camera"
   ]
  },
  {
   "cell_type": "code",
   "execution_count": null,
   "metadata": {
    "collapsed": false
   },
   "outputs": [],
   "source": [
    "imgpoints = [] # 2D\n",
    "objpoints = [] # 3D\n",
    "nx = 9\n",
    "ny = 6\n",
    "objp = np.zeros((nx*ny, 3), np.float32)\n",
    "objp[:,:2] = np.mgrid[0:nx, 0:ny].T.reshape(-1,2)\n",
    "\n",
    "distortion_coefficients = []\n",
    "camera_matrices = []\n",
    "\n",
    "def cal_undistort(image, objpoints, imgpoints, nx, ny, distortion_coefficients, camera_matrices):\n",
    "    # Use cv2.calibrateCamera() and cv2.undistort()\n",
    "    img = image.copy()\n",
    "    \n",
    "    gray = cv2.cvtColor(img, cv2.COLOR_RGB2GRAY)\n",
    "    \n",
    "    # Finding chessboard corners (for an 8x6 board):\n",
    "    ret, corners = cv2.findChessboardCorners(gray, (nx,ny), None)\n",
    "    print(\"Found corners: {0}\".format(ret))\n",
    "    \n",
    "    if ret==True:\n",
    "        imgpoints.append(corners)\n",
    "        objpoints.append(objp)\n",
    "\n",
    "        # Drawing detected corners on an image:\n",
    "        img = cv2.drawChessboardCorners(img, (nx,ny), corners, ret)\n",
    "\n",
    "        # Camera calibration, given object points, image points, and the shape of the grayscale image:\n",
    "        ret, mtx, dist, rvecs, tvecs = cv2.calibrateCamera(objpoints, imgpoints, gray.shape[::-1], None, None)\n",
    "\n",
    "        # Undistorting a test image:\n",
    "        dst = cv2.undistort(img, mtx, dist, None, mtx)\n",
    "        \n",
    "        camera_matrices.append(mtx)\n",
    "        distortion_coefficients.append(dist)\n",
    "    else:\n",
    "        dst = np.zeros_like(img)\n",
    "        \n",
    "        \n",
    "        \n",
    "    return img, dst\n",
    "\n",
    "for img in images['calibration'][0::]:\n",
    "    \n",
    "    original, undistorted = cal_undistort(img, objpoints, imgpoints, nx, ny, distortion_coefficients, camera_matrices) \n",
    "    \n",
    "# Get the last camera matrix and distortion coefficients as the final calibration set\n",
    "distortion_coefficients = np.array(distortion_coefficients).squeeze()\n",
    "camera_matrices = np.array(camera_matrices).squeeze()\n",
    "\n",
    "mtx = camera_matrices[-1,::]\n",
    "dist = distortion_coefficients[-1,::]\n",
    "\n",
    "singuar_values = []\n",
    "for cm in camera_matrices:\n",
    "    U, s, V = np.linalg.svd(cm, full_matrices=True)\n",
    "    singuar_values.append(s)\n",
    "singuar_values = np.array(singuar_values)"
   ]
  },
  {
   "cell_type": "markdown",
   "metadata": {},
   "source": [
    "### Analyse Calibration Results"
   ]
  },
  {
   "cell_type": "code",
   "execution_count": null,
   "metadata": {
    "collapsed": false
   },
   "outputs": [],
   "source": [
    "fig, axes = plt.subplots(3,1, figsize=(18,10))\n",
    "fig.subplots_adjust(hspace=0.15, wspace=0.15)\n",
    "axes[0].plot(distortion_coefficients)\n",
    "axes[0].set_title(\"Distortion Coefficient\")\n",
    "axes[0].set_ylabel(\"Value of Distortion Coefficient\")\n",
    "axes[0].grid('on')\n",
    "\n",
    "axes[1].plot(camera_matrices.reshape(-1, 9))\n",
    "axes[1].set_title(\"Camera Matrix Elements\")\n",
    "axes[1].set_ylabel(\"Value of Camera Matrix Element\")\n",
    "axes[1].grid('on')\n",
    "\n",
    "axes[2].plot(singuar_values[:,0])\n",
    "axes[2].set_title(\"First Singular Value of Camera Matrix\")\n",
    "axes[2].set_ylabel(\"First Singl. Value of Cam. Matrix\")\n",
    "axes[2].grid('on')\n",
    "\n",
    "plt.show()"
   ]
  },
  {
   "cell_type": "markdown",
   "metadata": {},
   "source": [
    "### Compare Original and Undistorted Images"
   ]
  },
  {
   "cell_type": "code",
   "execution_count": null,
   "metadata": {
    "collapsed": false,
    "scrolled": true
   },
   "outputs": [],
   "source": [
    "nb_images = 3\n",
    "\n",
    "fig, axes = plt.subplots(nb_images, 2, figsize=(18, (nb_images * 5)))\n",
    "fig.subplots_adjust(hspace=0.15, wspace=0.15)\n",
    "for i, img in enumerate(images['calibration'][0:nb_images]):\n",
    "    dst = cv2.undistort(img, mtx, dist, None, mtx)\n",
    "    axes[i,0].imshow(img)\n",
    "    axes[i,1].imshow(dst)\n",
    "axes[0,0].set_title('Original Images', fontsize=26)\n",
    "axes[0,1].set_title('Undistorted Images', fontsize=26)\n",
    "plt.show()"
   ]
  },
  {
   "cell_type": "markdown",
   "metadata": {},
   "source": [
    "## Compute Perspective Transform"
   ]
  },
  {
   "cell_type": "code",
   "execution_count": null,
   "metadata": {
    "collapsed": false
   },
   "outputs": [],
   "source": [
    "img = images['test'][0]\n",
    "\n",
    "dst = cv2.undistort(img, mtx, dist, None, mtx)\n",
    "\n",
    "y1, y2 = 720.0, 550.0\n",
    "x1, x2 = 220.0, 1100.0\n",
    "dx = 240.0\n",
    "dy = -25\n",
    "src_rect = np.zeros((4, 2), dtype = \"float32\")\n",
    "src_rect[0,:] = [x2-dx-20,y2]\n",
    "src_rect[1,:] = [x2,y1]\n",
    "src_rect[2,:] = [x1,y1]\n",
    "src_rect[3,:] = [x1+dx,y2]\n",
    "\n",
    "dst_rect = np.zeros((4, 2), dtype = \"float32\")\n",
    "dst_rect[0,:] = [x2,y2-dy]\n",
    "dst_rect[1,:] = [x2,y1]\n",
    "dst_rect[2,:] = [x1,y1]\n",
    "dst_rect[3,:] = [x1,y2-dy]\n",
    "\n",
    "for c in src_rect:\n",
    "    result = cv2.circle(img.copy(), tuple(c), 1, 0xFF, 4)\n",
    "    \n",
    "for d in dst_rect:\n",
    "    result = cv2.circle(img.copy(), tuple(d), 1, 0x00, 10)\n",
    "    "
   ]
  },
  {
   "cell_type": "markdown",
   "metadata": {},
   "source": [
    "## Undistort Camera Images"
   ]
  },
  {
   "cell_type": "markdown",
   "metadata": {},
   "source": [
    "### Comparison of Original and Calibrated Image"
   ]
  },
  {
   "cell_type": "code",
   "execution_count": null,
   "metadata": {
    "collapsed": false
   },
   "outputs": [],
   "source": [
    "alpha = 0.5\n",
    "overlay = dst.copy()\n",
    "output = img.copy()\n",
    "# Apply the overlay\n",
    "result = cv2.addWeighted(overlay, alpha, output, 1 - alpha, 0, output)\n",
    "\n",
    "fig, axes = plt.subplots(2,2, figsize=(18,11))\n",
    "fig.subplots_adjust(hspace=0.15, wspace=0.25)\n",
    "\n",
    "fontsize = 22\n",
    "\n",
    "axes[0,0].imshow(img)\n",
    "axes[0,0].set_title('Original Image', fontsize=fontsize)\n",
    "axes[0,1].imshow(dst)\n",
    "axes[0,1].set_title('Undistorted Image', fontsize=fontsize)\n",
    "axes[1,0].imshow(result)\n",
    "axes[1,0].set_title('Overlay of the Original and the Undistorted Image', fontsize=fontsize)\n",
    "axes[1,1].imshow(img-dst)\n",
    "axes[1,1].set_title('Difference Image: Original-Undistorted', fontsize=fontsize)\n",
    "\n",
    "plt.show()"
   ]
  },
  {
   "cell_type": "code",
   "execution_count": null,
   "metadata": {
    "collapsed": false
   },
   "outputs": [],
   "source": [
    "M = cv2.getPerspectiveTransform(src_rect, dst_rect)\n",
    "\n",
    "# Compute the inverse perspective transform:\n",
    "Minv = cv2.getPerspectiveTransform(dst_rect, src_rect)\n",
    "\n",
    "# Warp an image using the perspective transform, M:\n",
    "warped = cv2.warpPerspective(img, M, (img.shape[1], img.shape[0]), flags=cv2.INTER_LINEAR)\n",
    "gray   = cv2.cvtColor(warped, cv2.COLOR_RGB2GRAY)\n",
    "plt.figure(figsize=(20,20))\n",
    "plt.imshow(warped)\n",
    "plt.show()"
   ]
  },
  {
   "cell_type": "code",
   "execution_count": null,
   "metadata": {
    "collapsed": true
   },
   "outputs": [],
   "source": []
  },
  {
   "cell_type": "code",
   "execution_count": null,
   "metadata": {
    "collapsed": false
   },
   "outputs": [],
   "source": [
    "result, _ = pl.random_affine_transformation(img, 0, shear_range=600)\n",
    "fig = plt.figure(figsize=(18,10))\n",
    "plt.imshow(result)\n",
    "plt.show()"
   ]
  },
  {
   "cell_type": "code",
   "execution_count": null,
   "metadata": {
    "collapsed": false
   },
   "outputs": [],
   "source": []
  },
  {
   "cell_type": "code",
   "execution_count": null,
   "metadata": {
    "collapsed": true
   },
   "outputs": [],
   "source": []
  }
 ],
 "metadata": {
  "kernelspec": {
   "display_name": "Python 3",
   "language": "python",
   "name": "python3"
  },
  "language_info": {
   "codemirror_mode": {
    "name": "ipython",
    "version": 3
   },
   "file_extension": ".py",
   "mimetype": "text/x-python",
   "name": "python",
   "nbconvert_exporter": "python",
   "pygments_lexer": "ipython3",
   "version": "3.6.0"
  }
 },
 "nbformat": 4,
 "nbformat_minor": 2
}
