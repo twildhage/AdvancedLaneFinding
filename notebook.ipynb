{
 "cells": [
  {
   "cell_type": "code",
   "execution_count": null,
   "metadata": {
    "collapsed": true
   },
   "outputs": [],
   "source": [
    "import pickle\n",
    "import cv2\n",
    "import glob \n",
    "import numpy as np\n",
    "import matplotlib.pyplot as plt\n",
    "import matplotlib.image as mpimg"
   ]
  },
  {
   "cell_type": "code",
   "execution_count": null,
   "metadata": {
    "collapsed": true
   },
   "outputs": [],
   "source": [
    "path = {'calibration': './camera_cal/',\n",
    "        'example': './examples/',\n",
    "        'test': './test_images/'}\n",
    "files  = {key:[] for key in path}\n",
    "images = {key:[] for key in path}"
   ]
  },
  {
   "cell_type": "code",
   "execution_count": null,
   "metadata": {
    "collapsed": false
   },
   "outputs": [],
   "source": [
    "files['calibration'] = glob.glob(path['calibration'] + 'calibration*.jpg')\n",
    "files['example']     = glob.glob(path['example'] + '*.jpg')\n",
    "files['test']        = glob.glob(path['test'] + '*.jpg')\n",
    "\n",
    "for key in files:\n",
    "    print(\"Load {} images...\".format(key))\n",
    "    for file in files[key]:\n",
    "        images[key].append(mpimg.imread(file))\n",
    "        print('{}'.format(file))\n",
    "    print('\\n')"
   ]
  },
  {
   "cell_type": "code",
   "execution_count": null,
   "metadata": {
    "collapsed": false
   },
   "outputs": [],
   "source": [
    "whos"
   ]
  }
 ],
 "metadata": {
  "kernelspec": {
   "display_name": "Python 3",
   "language": "python",
   "name": "python3"
  },
  "language_info": {
   "codemirror_mode": {
    "name": "ipython",
    "version": 3
   },
   "file_extension": ".py",
   "mimetype": "text/x-python",
   "name": "python",
   "nbconvert_exporter": "python",
   "pygments_lexer": "ipython3",
   "version": "3.6.0"
  }
 },
 "nbformat": 4,
 "nbformat_minor": 2
}
