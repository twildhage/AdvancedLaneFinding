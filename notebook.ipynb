{
 "cells": [
  {
   "cell_type": "code",
   "execution_count": null,
   "metadata": {
    "collapsed": false
   },
   "outputs": [],
   "source": [
    "import cv2\n",
    "from glob import glob \n",
    "import numpy as np\n",
    "import matplotlib.pyplot as plt\n",
    "import matplotlib.image as mpimg\n",
    "import pipeline as pl\n",
    "from sklearn import datasets, linear_model\n",
    "import copy\n",
    "import sys\n",
    "from tqdm import tqdm\n",
    "from moviepy.editor import VideoFileClip"
   ]
  },
  {
   "cell_type": "code",
   "execution_count": null,
   "metadata": {
    "collapsed": false
   },
   "outputs": [],
   "source": [
    "# Prepare main data containers\n",
    "path = {'calibration': './camera_cal/',\n",
    "        'example': './examples/',\n",
    "        'test': './test_images/'}\n",
    "files      = {key:[] for key in path}\n",
    "images     = {key:[] for key in path}\n",
    "cal_images = {key:[] for key in path}\n",
    "\n",
    "# Get filenames of all images\n",
    "files['calibration'] = glob(path['calibration'] + 'calibration*.jpg')\n",
    "files['example']     = glob(path['example'] + '*.jpg')\n",
    "files['test']        = glob(path['test'] + '*.jpg')\n",
    "\n",
    "# Load all images\n",
    "for key in files:\n",
    "    print(\"Load {} images...\".format(key))\n",
    "    for file in files[key]:\n",
    "        images[key].append(mpimg.imread(file))\n",
    "        \n",
    "video_filename = '/home/timo/Documents/udacity/carnd1/CarND-Advanced-Lane-Lines/project_video.mp4'"
   ]
  },
  {
   "cell_type": "code",
   "execution_count": null,
   "metadata": {
    "collapsed": true
   },
   "outputs": [],
   "source": [
    "def get_birdseye_view_parameters(verbose=0):\n",
    "    if verbose==1:\n",
    "        print(\"Load birdseye view parameters...\")\n",
    "    src_rect = np.zeros((4, 2), dtype = \"float32\")    \n",
    "    src_rect[0,:] = [225, 700] # left bottom\n",
    "    src_rect[1,:] = [595, 450] # left top\n",
    "    src_rect[2,:] = [690, 450] # right top\n",
    "    src_rect[3,:] = [1055,700] # right bottom\n",
    "\n",
    "    dst_rect = np.zeros((4, 2), dtype = \"float32\")\n",
    "    dst_rect[0,:] = [325, 720] # left bottom \n",
    "    dst_rect[1,:] = [325,-100] # left top\n",
    "    dst_rect[2,:] = [955,-100] # right top\n",
    "    dst_rect[3,:] = [955, 720] # right bottom\n",
    "    \n",
    "\n",
    "    M = cv2.getPerspectiveTransform(src_rect, dst_rect)\n",
    "\n",
    "    # Compute the inverse perspective transform:\n",
    "    Minv = cv2.getPerspectiveTransform(dst_rect, src_rect)\n",
    "    if verbose==1:\n",
    "        print(\"Done.\")\n",
    "    return M, Minv\n",
    "\n",
    "def get_final_calibration_parameters(calibration_images, verbose=0):\n",
    "    if verbose==1:\n",
    "        print(\"Load calibration view parameters...\")\n",
    "    \n",
    "    camera_matrices, distortion_coefficients, singuar_values = pl.get_calibration_parameters((calibration_images), verbose=0)\n",
    "    mtx, dist = camera_matrices[-1,::], distortion_coefficients[-1]\n",
    "    if verbose==1:\n",
    "        print(\"Done.\")\n",
    "    return mtx, dist\n",
    "\n",
    "def undistort_image(image):\n",
    "    return cv2.undistort(image, mtx, dist, None, mtx)\n",
    "\n",
    "def detect_edges(image):\n",
    "    return pl.lane_detection(image, verbose=0)\n",
    "\n",
    "def transform_to_birdseye_view(image, M, target_dim=(1280, 720)):\n",
    "    return cv2.warpPerspective(image, M, target_dim, flags=cv2.INTER_LINEAR)\n",
    "\n",
    "def transform_to_camera_view(image, Minv, target_dim=(1280, 720)):\n",
    "    return cv2.warpPerspective(image, Minv, target_dim, flags=cv2.INTER_LINEAR)\n",
    "\n",
    "def windowed_line_search(image, verbose=0):\n",
    "    result, left_fit, right_fit,  textfields, textcoords = find_lines(image, verbose=verbose)\n",
    "    return result, left_fit, right_fit, textfields, textcoords\n",
    "\n",
    "\n",
    "def overlay(frame, line_image):\n",
    "    \n",
    "    result = cv2.addWeighted(frame.astype(float), 1, line_image.astype(float), 0.3, 0)\n",
    "    return result.astype(np.uint8)\n",
    "\n",
    "def put_text_annotations(image, textfields, textcoords, font):\n",
    "\n",
    "    color = (255,255,255)\n",
    "    for textfield, coordinate in zip(textfields, textcoords):\n",
    "        result = cv2.putText(image, textfield, coordinate, font, 1, color, 2, cv2.LINE_AA)\n",
    "    return result"
   ]
  },
  {
   "cell_type": "code",
   "execution_count": null,
   "metadata": {
    "collapsed": true
   },
   "outputs": [],
   "source": [
    "# Get camera calibration parameters\n",
    "mtx, dist = get_final_calibration_parameters(calibration_images=copy.deepcopy(images['calibration']), verbose=0)"
   ]
  },
  {
   "cell_type": "code",
   "execution_count": null,
   "metadata": {
    "collapsed": false,
    "scrolled": false
   },
   "outputs": [],
   "source": [
    "from Lane import Lane\n",
    "lane = Lane(nb_memory_items=25)\n",
    "M, Minv = get_birdseye_view_parameters(verbose=0)\n",
    "\n",
    "def create_project_video():\n",
    "\n",
    "    def draw_lines(image):\n",
    "        \n",
    "        #xcenter = lane.get_centerx_pixel()\n",
    "\n",
    "        result = undistort_image(image)\n",
    "\n",
    "        result = detect_edges(result)\n",
    "                \n",
    "        result = transform_to_birdseye_view(result, M, (1280, 720))\n",
    "                \n",
    "        result = lane.line_search(result, verbose=1)\n",
    "        \n",
    "        textfields, textcoords = lane.get_radius_annotations()\n",
    "        \n",
    "        result = transform_to_camera_view(result, Minv, (1280, 720))\n",
    "        \n",
    "        result = overlay(image, result)\n",
    "        \n",
    "        result = put_text_annotations(result, textfields, textcoords, font=cv2.FONT_HERSHEY_SIMPLEX)\n",
    "        \n",
    "        return result\n",
    "\n",
    "    \n",
    "    video = VideoFileClip(video_filename)\n",
    "    lanes_video = video.fl_image( draw_lines )\n",
    "    %time lanes_video.write_videofile(\"lanes_video.mp4\", audio=False)\n",
    "    return lanes_video\n",
    "lanes_video = create_project_video()\n"
   ]
  }
 ],
 "metadata": {
  "kernelspec": {
   "display_name": "Python 3",
   "language": "python",
   "name": "python3"
  },
  "language_info": {
   "codemirror_mode": {
    "name": "ipython",
    "version": 3
   },
   "file_extension": ".py",
   "mimetype": "text/x-python",
   "name": "python",
   "nbconvert_exporter": "python",
   "pygments_lexer": "ipython3",
   "version": "3.6.0"
  }
 },
 "nbformat": 4,
 "nbformat_minor": 2
}
